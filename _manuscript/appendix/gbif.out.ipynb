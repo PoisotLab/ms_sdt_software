{
 "cells": [
  {
   "cell_type": "markdown",
   "metadata": {},
   "source": [
    "# Collecting and using GBIF data"
   ],
   "id": "ac8f791e-2fc5-4f11-b311-14a7dd5ba3ac"
  },
  {
   "cell_type": "markdown",
   "metadata": {},
   "source": [
    "The purpose of this case study is to demonstrate how to retrieve data from GBIF, and use them to extract environmental conditions from a series of layers."
   ],
   "id": "cell-1"
  },
  {
   "cell_type": "code",
   "execution_count": 1,
   "metadata": {},
   "outputs": [],
   "source": [
    "using SpeciesDistributionToolkit\n",
    "using CairoMakie\n",
    "using Statistics\n",
    "import Downloads\n",
    "import Images\n",
    "CairoMakie.activate!(px_per_unit = 6.0)"
   ],
   "id": "cell-2"
  },
  {
   "cell_type": "markdown",
   "metadata": {},
   "source": [
    "We start by defining which species we want to work on:"
   ],
   "id": "cell-3"
  },
  {
   "cell_type": "code",
   "execution_count": 2,
   "metadata": {},
   "outputs": [
    {
     "output_type": "display_data",
     "metadata": {},
     "data": {
      "text/plain": [
       "GBIF taxon -- Akodon montensis"
      ]
     }
    }
   ],
   "source": [
    "tx = taxon(\"Akodon montensis\")"
   ],
   "id": "cell-4"
  },
  {
   "cell_type": "markdown",
   "metadata": {},
   "source": [
    "When this is done, we can query the initial set of occurrences. The query arguments are the same as the arguments to the GBIF occurrence API, [the documentation of which is available online](https://techdocs.gbif.org/en/openapi/)."
   ],
   "id": "cell-5"
  },
  {
   "cell_type": "code",
   "execution_count": null,
   "metadata": {},
   "outputs": [
    {
     "output_type": "display_data",
     "metadata": {},
     "data": {
      "text/plain": [
       "GBIF records: downloaded 300 out of 562"
      ]
     }
    }
   ],
   "source": [
    "occ = occurrences(tx, \"occurrenceStatus\" => \"PRESENT\", \"country\" => \"PY\", \"limit\" => 100, \"hasCoordinate\" => true)"
   ],
   "id": "cell-6"
  },
  {
   "cell_type": "markdown",
   "metadata": {},
   "source": [
    "This object is only the first page of the records, so we can start a loop to query more of them. Note that for very large number of occurrences, this can be prohibitively slow. For this reason, we are currently adding support to the download API to the **GBIF** package."
   ],
   "id": "cell-7"
  },
  {
   "cell_type": "code",
   "execution_count": 4,
   "metadata": {},
   "outputs": [
    {
     "output_type": "stream",
     "name": "stdout",
     "text": [
      "Retrieved 562 occurrences"
     ]
    }
   ],
   "source": [
    "while length(occ) < count(occ)\n",
    "    occurrences!(occ)\n",
    "end\n",
    "println(\"Retrieved $(length(occ)) occurrences\")"
   ],
   "id": "cell-8"
  },
  {
   "cell_type": "markdown",
   "metadata": {},
   "source": [
    "Before moving on, we will use **Phylopic** to download a silhouette for the species we work on:"
   ],
   "id": "cell-9"
  },
  {
   "cell_type": "code",
   "execution_count": 5,
   "metadata": {},
   "outputs": [
    {
     "output_type": "display_data",
     "metadata": {},
     "data": {
      "text/html": [
       "<img src=\"data:image/png;base64,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\">"
      ]
     }
    }
   ],
   "source": [
    "sp_uuid = Phylopic.imagesof(tx; items = 1)\n",
    "sp_thumbnail_url = Phylopic.thumbnail(sp_uuid)\n",
    "sp_thumbnail_tmp = Downloads.download(sp_thumbnail_url)\n",
    "sp_image = Images.load(sp_thumbnail_tmp)"
   ],
   "id": "cell-10"
  },
  {
   "cell_type": "markdown",
   "metadata": {},
   "source": [
    "The attribution of the image can be collected as well (and should be included whenever it is not a public domain dedication):"
   ],
   "id": "cell-11"
  },
  {
   "cell_type": "code",
   "execution_count": 6,
   "metadata": {},
   "outputs": [],
   "source": [
    "Phylopic.attribution(sp_uuid)"
   ],
   "id": "cell-12"
  },
  {
   "cell_type": "markdown",
   "metadata": {},
   "source": [
    "We will re-use the same approach to the layer download as in the previous case study, and therefore will not go quite in depth in the code."
   ],
   "id": "cell-13"
  },
  {
   "cell_type": "code",
   "execution_count": 7,
   "metadata": {},
   "outputs": [
    {
     "output_type": "display_data",
     "metadata": {},
     "data": {
      "text/plain": [
       "RasterData{CHELSA2, BioClim}(CHELSA2, BioClim)"
      ]
     }
    }
   ],
   "source": [
    "provider = RasterData(CHELSA2, BioClim)"
   ],
   "id": "cell-14"
  },
  {
   "cell_type": "markdown",
   "metadata": {},
   "source": [
    "Note, here, that we will get the bounding box for the occurrences, and only read the relevant part of the layers. We used the same approach with the bounding box for the polygon in the previous case study:"
   ],
   "id": "cell-15"
  },
  {
   "cell_type": "code",
   "execution_count": 8,
   "metadata": {},
   "outputs": [
    {
     "output_type": "display_data",
     "metadata": {},
     "data": {
      "text/plain": [
       "(left = -58.0815, right = -54.388722, bottom = -26.755333, top = -23.813)"
      ]
     }
    }
   ],
   "source": [
    "spatial_extent = SpeciesDistributionToolkit.boundingbox(occ)"
   ],
   "id": "cell-16"
  },
  {
   "cell_type": "markdown",
   "metadata": {},
   "source": [
    "In the next code cell, we will load the raster data, and immediately convert them in the right scale (different databases store the information with different scales and offsets). Layers, here, behave as numbers for the purpose of adding and mutliplying, which leads to shorter code:"
   ],
   "id": "cell-17"
  },
  {
   "cell_type": "code",
   "execution_count": 9,
   "metadata": {},
   "outputs": [
    {
     "output_type": "display_data",
     "metadata": {},
     "data": {
      "text/plain": [
       "🗺️  A 354 × 444 layer with 157176 Float64 cells\n",
       "   Projection: +proj=longlat +datum=WGS84 +no_defs"
      ]
     }
    }
   ],
   "source": [
    "temperature = 0.1SDMLayer(provider; layer = \"BIO1\", spatial_extent...)-271\n",
    "precipitation = 0.1SDMLayer(provider; layer = \"BIO12\", spatial_extent...)"
   ],
   "id": "cell-18"
  },
  {
   "cell_type": "markdown",
   "metadata": {},
   "source": [
    "Before we move on with the figure, we can use the `layer[occurrences]` syntax to extract some of the values (and get the median). This syntax illustrates one of the ways in which **SDT** overloads the usual array indexing syntax, to rapidly extract the data stored in a layer at positions specified by occurrences."
   ],
   "id": "cell-19"
  },
  {
   "cell_type": "code",
   "execution_count": 10,
   "metadata": {},
   "outputs": [
    {
     "output_type": "display_data",
     "metadata": {},
     "data": {
      "text/plain": [
       "23.600000000000023"
      ]
     }
    }
   ],
   "source": [
    "temperature[occ] |> median"
   ],
   "id": "cell-20"
  },
  {
   "cell_type": "markdown",
   "metadata": {},
   "source": [
    "The rest of the vignette is simply data visualisation:"
   ],
   "id": "cell-21"
  },
  {
   "cell_type": "code",
   "execution_count": 11,
   "metadata": {},
   "outputs": [
    {
     "output_type": "display_data",
     "metadata": {},
     "data": {
      "text/plain": [
       "Scatter{Tuple{Vector{Point{2, Float64}}}}"
      ]
     }
    }
   ],
   "source": [
    "figure = Figure(; size = (600, 400))\n",
    "ax =\n",
    "    Axis(figure[1, 1]; xlabel = \"Annual mean temperature (°C)\", ylabel = \"Annual precipitation (kg×m⁻²)\")\n",
    "scatter!(ax, temperature[occ], precipitation[occ], markersize=12, color=:white, strokecolor=:black, strokewidth=2)"
   ],
   "id": "cell-22"
  },
  {
   "cell_type": "markdown",
   "metadata": {},
   "source": [
    "This little incantation is just to make sure that the silhouette is scaled properly, as SVG support for **Makie** is not quite as developped as we would like."
   ],
   "id": "cell-23"
  },
  {
   "cell_type": "code",
   "execution_count": 12,
   "metadata": {},
   "outputs": [
    {
     "output_type": "display_data",
     "metadata": {},
     "data": {
      "text/plain": [
       "2-element Vec{2, Float32} with indices SOneTo(2):\n",
       " 76.8\n",
       " 76.8"
      ]
     }
    }
   ],
   "source": [
    "sp_size = Vec2f(reverse(size(sp_image) ./ 2.5))"
   ],
   "id": "cell-24"
  },
  {
   "cell_type": "markdown",
   "metadata": {},
   "source": [
    "We finally add the silhouette:"
   ],
   "id": "cell-25"
  },
  {
   "cell_type": "code",
   "execution_count": 13,
   "metadata": {},
   "outputs": [
    {
     "output_type": "display_data",
     "metadata": {},
     "data": {
      "text/plain": [
       "Scatter{Tuple{Vector{Point{2, Float64}}}}"
      ]
     }
    }
   ],
   "source": [
    "scatter!(ax, [22.7], [1700.0]; marker = sp_image, markersize = sp_size)"
   ],
   "id": "cell-26"
  },
  {
   "cell_type": "markdown",
   "metadata": {},
   "source": [
    "This is the final figure that will be shown in the manuscript:"
   ],
   "id": "cell-27"
  },
  {
   "cell_type": "code",
   "execution_count": 14,
   "metadata": {},
   "outputs": [],
   "source": [
    "figure"
   ],
   "id": "cell-fig-gbif-phylopic"
  }
 ],
 "nbformat": 4,
 "nbformat_minor": 5,
 "metadata": {}
}
