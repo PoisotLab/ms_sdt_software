{
  "cells": [
    {
      "cell_type": "markdown",
      "metadata": {},
      "source": [
        "# Virtual species\n",
        "\n",
        "In this vignette, we provide a demonstration of how the different\n",
        "**SpeciesDistributionToolkit** functions can be chained together to\n",
        "rapidly create a virtual species, generate its range map, and sample\n",
        "points from it according to the predicted suitability."
      ],
      "id": "c398de60-e83f-4a99-97b9-23eb873d2d11"
    },
    {
      "cell_type": "code",
      "execution_count": 1,
      "metadata": {},
      "outputs": [],
      "source": [
        "using SpeciesDistributionToolkit\n",
        "using CairoMakie\n",
        "using Statistics\n",
        "CairoMakie.activate!(px_per_unit = 6.0)"
      ],
      "id": "cell-3"
    },
    {
      "cell_type": "markdown",
      "metadata": {},
      "source": [
        "We start by defining the extent in which we want to create the virtual\n",
        "species. For the purpose of this example, we will use the country of\n",
        "Austria, a polygon of which is available in the GADM database. Note that\n",
        "the `boundingbox` function returns the coordinates *in WGS84*."
      ],
      "id": "69cd7d8d-f1c1-4678-86c4-dc0eabd5de66"
    },
    {
      "cell_type": "code",
      "execution_count": 2,
      "metadata": {},
      "outputs": [
        {
          "output_type": "display_data",
          "metadata": {},
          "data": {
            "text/plain": [
              "(left = -62.642398834228516, right = -54.25859832763672, bottom = -27.60569953918457, top = -19.29520034790039)"
            ]
          }
        }
      ],
      "source": [
        "place = SpeciesDistributionToolkit.gadm(\"PRY\")\n",
        "extent = SpeciesDistributionToolkit.boundingbox(place)"
      ],
      "id": "cell-5"
    },
    {
      "cell_type": "markdown",
      "metadata": {},
      "source": [
        "We then download some environmental data. In this example, we use the\n",
        "BioClim variables as distributed by CHELSA. In order to simplify the\n",
        "code, we will only use BIO1 (mean annual temperature) and BIO12 (total\n",
        "annual precipitation). Note that we collect these layers in a vector\n",
        "typed as `SDMLayer{Float32}`, in order to ensure that future operations\n",
        "already recevie floating point values."
      ],
      "id": "1206c0d3-5861-4cc3-81e8-2ad1ade4827d"
    },
    {
      "cell_type": "code",
      "execution_count": 3,
      "metadata": {},
      "outputs": [
        {
          "output_type": "display_data",
          "metadata": {},
          "data": {
            "text/plain": [
              "2-element Vector{SDMLayer{Float32}}:\n",
              " SDMLayer{Float32}(Float32[2948.0 2948.0 … 2937.0 2938.0; 2948.0 2948.0 … 2935.0 2936.0; … ; 2975.0 2975.0 … 2982.0 2981.0; 2975.0 2975.0 … 2983.0 2981.0], Bool[1 1 … 1 1; 1 1 … 1 1; … ; 1 1 … 1 1; 1 1 … 1 1], (-62.65013935825001, -54.25847272515001), (-27.60847247174999, -19.291805838349994), \"+proj=longlat +datum=WGS84 +no_defs\")\n",
              " SDMLayer{Float32}(Float32[8438.0 8469.0 … 20889.0 20591.0; 8439.0 8469.0 … 20926.0 20737.0; … ; 9596.0 9575.0 … 13836.0 13811.0; 9606.0 9586.0 … 13767.0 13712.0], Bool[1 1 … 1 1; 1 1 … 1 1; … ; 1 1 … 1 1; 1 1 … 1 1], (-62.65013935825001, -54.25847272515001), (-27.60847247174999, -19.291805838349994), \"+proj=longlat +datum=WGS84 +no_defs\")"
            ]
          }
        }
      ],
      "source": [
        "provider = RasterData(CHELSA2, BioClim)\n",
        "L = SDMLayer{Float32}[SDMLayer(provider; layer=l, extent...) for l in [\"BIO1\", \"BIO12\"]]"
      ],
      "id": "cell-7"
    },
    {
      "cell_type": "markdown",
      "metadata": {},
      "source": [
        "We now mask the layers using the polygons we downloaded initially. Here,\n",
        "this is done in two steps, first the masking of the first layer, and\n",
        "second the masking of all other layers. Currently unreleased versions of\n",
        "the package have a shortcut for this operation."
      ],
      "id": "bb8d5f1d-fc5c-4be1-8b0d-1cba66b149c1"
    },
    {
      "cell_type": "code",
      "execution_count": 4,
      "metadata": {},
      "outputs": [
        {
          "output_type": "display_data",
          "metadata": {},
          "data": {
            "text/plain": [
              "2-element Vector{SDMLayer{Float32}}:\n",
              " SDMLayer{Float32}(Float32[0.3857143 0.3857143 … 0.22857143 0.24285714; 0.3857143 0.3857143 … 0.2 0.21428572; … ; 0.7714286 0.7714286 … 0.87142855 0.85714287; 0.7714286 0.7714286 … 0.8857143 0.85714287], Bool[0 0 … 0 0; 0 0 … 0 0; … ; 0 0 … 0 0; 0 0 … 0 0], (-62.65013935825001, -54.25847272515001), (-27.60847247174999, -19.291805838349994), \"+proj=longlat +datum=WGS84 +no_defs\")\n",
              " SDMLayer{Float32}(Float32[0.092917636 0.09482018 … 0.85706395 0.83877504; 0.092979014 0.09482018 … 0.8593347 0.84773535; … ; 0.16398674 0.16269793 … 0.42420524 0.42267093; 0.16460046 0.16337302 … 0.41997054 0.41659507], Bool[0 0 … 0 0; 0 0 … 0 0; … ; 0 0 … 0 0; 0 0 … 0 0], (-62.65013935825001, -54.25847272515001), (-27.60847247174999, -19.291805838349994), \"+proj=longlat +datum=WGS84 +no_defs\")"
            ]
          }
        }
      ],
      "source": [
        "rescale!.(mask!(L, place))"
      ],
      "id": "cell-9"
    },
    {
      "cell_type": "markdown",
      "metadata": {},
      "source": [
        "In the next steps, we will generate some virtual species. These are\n",
        "defined by an environmental response to each layer, linking the value of\n",
        "the layer at a point to the suitability score. For the sake of\n",
        "expediency, we only use logistic responses, and generate one function\n",
        "for each layer (drawing $\\alpha$ from a normal distribution, and $\\beta$\n",
        "uniformly)."
      ],
      "id": "6ef63fee-b03d-44b1-8604-9a6d2cff6e00"
    },
    {
      "cell_type": "code",
      "execution_count": 5,
      "metadata": {},
      "outputs": [
        {
          "output_type": "display_data",
          "metadata": {},
          "data": {
            "text/plain": [
              "2-element Vector{var\"#11#12\"{Float64, Float64}}:\n",
              " #11 (generic function with 1 method)\n",
              " #11 (generic function with 1 method)"
            ]
          }
        }
      ],
      "source": [
        "logistic(x, α, β) = 1 / (1 + exp((x-β)/α))\n",
        "logistic(α, β) = (x) -> logistic(x, α, β)\n",
        "f = [logistic(randn(), rand()) for _ in eachindex(L)]"
      ],
      "id": "cell-11"
    },
    {
      "cell_type": "markdown",
      "metadata": {},
      "source": [
        "In the next step, we create a layer of suitability, by applying the\n",
        "logistic function to each environmental variable layer, and taking the\n",
        "product of all suitabilities:"
      ],
      "id": "6818c633-56a6-46cf-b5e4-1dab82e7ecd9"
    },
    {
      "cell_type": "code",
      "execution_count": 6,
      "metadata": {},
      "outputs": [
        {
          "output_type": "display_data",
          "metadata": {},
          "data": {
            "text/plain": [
              "SDM Layer with 507665 Float64 cells\n",
              "    Proj string: +proj=longlat +datum=WGS84 +no_defs\n",
              "    Grid size: (998, 1007)"
            ]
          }
        }
      ],
      "source": [
        "S = prod([f[i].(L[i]) for i in eachindex(L)])"
      ],
      "id": "cell-13"
    },
    {
      "cell_type": "markdown",
      "metadata": {},
      "source": [
        "In order to generate the range of the species, we set a target\n",
        "prevalence, and identify the quantile corresponding to this prevalence\n",
        "in the suitability layer."
      ],
      "id": "e88083f9-4bc2-4372-853f-64092ece0e97"
    },
    {
      "cell_type": "code",
      "execution_count": 7,
      "metadata": {},
      "outputs": [
        {
          "output_type": "display_data",
          "metadata": {},
          "data": {
            "text/plain": [
              "0.7884535579782708"
            ]
          }
        }
      ],
      "source": [
        "target_prevalence = 0.1626\n",
        "cutoff = quantile(S, 1-target_prevalence)"
      ],
      "id": "cell-15"
    },
    {
      "cell_type": "markdown",
      "metadata": {},
      "source": [
        "Random observations for the virtual species are generated by setting the\n",
        "probability of inclusion to 0 for all values above the cutoff, and then\n",
        "sampling proportionally to the suitability for all remaining points.\n",
        "Note that the method is called `backgroundpoints`, as it is normally\n",
        "used for pseudo-absences. The second argument of this method is the\n",
        "number of points to generate."
      ],
      "id": "a95e7f6f-031b-4ffe-9fc8-1b0721aa2069"
    },
    {
      "cell_type": "code",
      "execution_count": 8,
      "metadata": {},
      "outputs": [
        {
          "output_type": "display_data",
          "metadata": {},
          "data": {
            "text/plain": [
              "SDM Layer with 507665 Bool cells\n",
              "    Proj string: +proj=longlat +datum=WGS84 +no_defs\n",
              "    Grid size: (998, 1007)"
            ]
          }
        }
      ],
      "source": [
        "presencelayer = backgroundpoints((v -> v > cutoff ? v : 0.0).(S), 59)"
      ],
      "id": "cell-17"
    },
    {
      "cell_type": "markdown",
      "metadata": {},
      "source": [
        "We can finally plot the result:"
      ],
      "id": "b7881f03-08f9-482b-88c8-2da51d339d48"
    },
    {
      "cell_type": "code",
      "execution_count": 9,
      "metadata": {},
      "outputs": [],
      "source": [
        "f = Figure(size=(700, 700))\n",
        "ax = Axis(f[1,1], aspect=DataAspect())\n",
        "heatmap!(ax, S .> cutoff, colormap=[\"#cececebb\", :green])\n",
        "lines!(ax, place[1].geometry, color=:black)\n",
        "scatter!(ax, presencelayer, color=:white, strokecolor=:black, strokewidth=2, markersize=10, label=\"Virtual presences\")\n",
        "tightlimits!(ax)\n",
        "hidespines!(ax)\n",
        "hidedecorations!(ax)\n",
        "axislegend(ax, position=:lb, framevisible=false)\n",
        "f"
      ],
      "id": "cell-fig-virtual-species"
    }
  ],
  "nbformat": 4,
  "nbformat_minor": 5,
  "metadata": {
    "kernelspec": {
      "name": "julia-1.11",
      "display_name": "Julia 1.11.3",
      "language": "julia"
    },
    "language_info": {
      "name": "julia",
      "file_extension": ".jl",
      "mimetype": "application/julia",
      "version": "1.11.3"
    }
  }
}