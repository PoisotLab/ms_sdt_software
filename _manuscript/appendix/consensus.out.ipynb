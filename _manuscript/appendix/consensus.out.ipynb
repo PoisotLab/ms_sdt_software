{
  "cells": [
    {
      "cell_type": "markdown",
      "metadata": {},
      "source": [
        "# Landcover consensus"
      ],
      "id": "36978a5f-bc3a-4939-acbe-75788e840355"
    },
    {
      "cell_type": "code",
      "execution_count": 10,
      "metadata": {},
      "outputs": [],
      "source": [
        "using SpeciesDistributionToolkit\n",
        "using CairoMakie\n",
        "CairoMakie.activate!(px_per_unit = 6.0)"
      ],
      "id": "cell-2"
    },
    {
      "cell_type": "code",
      "execution_count": 11,
      "metadata": {},
      "outputs": [
        {
          "output_type": "display_data",
          "metadata": {},
          "data": {
            "text/plain": [
              "(left = -62.642398834228516, right = -54.25859832763672, bottom = -27.60569953918457, top = -19.29520034790039)"
            ]
          }
        }
      ],
      "source": [
        "place = SpeciesDistributionToolkit.gadm(\"PRY\")\n",
        "extent = SpeciesDistributionToolkit.boundingbox(place)"
      ],
      "id": "cell-3"
    },
    {
      "cell_type": "code",
      "execution_count": 12,
      "metadata": {},
      "outputs": [
        {
          "output_type": "display_data",
          "metadata": {},
          "data": {
            "text/plain": [
              "12-element Vector{SDMLayer{UInt8}}:\n",
              " SDMLayer{UInt8}(UInt8[0x00 0x00 … 0x00 0x00; 0x00 0x00 … 0x00 0x00; … ; 0x00 0x00 … 0x00 0x00; 0x00 0x00 … 0x00 0x00], Bool[0 0 … 0 0; 0 0 … 0 0; … ; 0 0 … 0 0; 0 0 … 0 0], (-62.65000000000001, -54.25833333333333), (-27.608333333333338, -19.291666666666668), \"+proj=longlat +datum=WGS84 +no_defs\")\n",
              " SDMLayer{UInt8}(UInt8[0x10 0x18 … 0x00 0x00; 0x15 0x1f … 0x05 0x00; … ; 0x00 0x00 … 0x00 0x00; 0x00 0x00 … 0x00 0x00], Bool[0 0 … 0 0; 0 0 … 0 0; … ; 0 0 … 0 0; 0 0 … 0 0], (-62.65000000000001, -54.25833333333333), (-27.608333333333338, -19.291666666666668), \"+proj=longlat +datum=WGS84 +no_defs\")\n",
              " SDMLayer{UInt8}(UInt8[0x1a 0x14 … 0x05 0x00; 0x17 0x11 … 0x00 0x00; … ; 0x26 0x20 … 0x00 0x00; 0x0d 0x3f … 0x00 0x00], Bool[0 0 … 0 0; 0 0 … 0 0; … ; 0 0 … 0 0; 0 0 … 0 0], (-62.65000000000001, -54.25833333333333), (-27.608333333333338, -19.291666666666668), \"+proj=longlat +datum=WGS84 +no_defs\")\n",
              " SDMLayer{UInt8}(UInt8[0x07 0x1a … 0x00 0x14; 0x07 0x06 … 0x00 0x00; … ; 0x15 0x07 … 0x36 0x1d; 0x17 0x00 … 0x22 0x14], Bool[0 0 … 0 0; 0 0 … 0 0; … ; 0 0 … 0 0; 0 0 … 0 0], (-62.65000000000001, -54.25833333333333), (-27.608333333333338, -19.291666666666668), \"+proj=longlat +datum=WGS84 +no_defs\")\n",
              " SDMLayer{UInt8}(UInt8[0x00 0x00 … 0x13 0x11; 0x00 0x00 … 0x1e 0x08; … ; 0x15 0x1e … 0x16 0x10; 0x17 0x1d … 0x10 0x00], Bool[0 0 … 0 0; 0 0 … 0 0; … ; 0 0 … 0 0; 0 0 … 0 0], (-62.65000000000001, -54.25833333333333), (-27.608333333333338, -19.291666666666668), \"+proj=longlat +datum=WGS84 +no_defs\")\n",
              " SDMLayer{UInt8}(UInt8[0x1e 0x1e … 0x00 0x00; 0x1e 0x1d … 0x00 0x00; … ; 0x00 0x00 … 0x00 0x00; 0x00 0x00 … 0x0d 0x00], Bool[0 0 … 0 0; 0 0 … 0 0; … ; 0 0 … 0 0; 0 0 … 0 0], (-62.65000000000001, -54.25833333333333), (-27.608333333333338, -19.291666666666668), \"+proj=longlat +datum=WGS84 +no_defs\")\n",
              " SDMLayer{UInt8}(UInt8[0x14 0x00 … 0x4c 0x3f; 0x13 0x12 … 0x41 0x5c; … ; 0x04 0x12 … 0x16 0x37; 0x27 0x08 … 0x24 0x50], Bool[0 0 … 0 0; 0 0 … 0 0; … ; 0 0 … 0 0; 0 0 … 0 0], (-62.65000000000001, -54.25833333333333), (-27.608333333333338, -19.291666666666668), \"+proj=longlat +datum=WGS84 +no_defs\")\n",
              " SDMLayer{UInt8}(UInt8[0x00 0x00 … 0x00 0x00; 0x00 0x00 … 0x00 0x00; … ; 0x00 0x00 … 0x03 0x01; 0x00 0x00 … 0x01 0x00], Bool[0 0 … 0 0; 0 0 … 0 0; … ; 0 0 … 0 0; 0 0 … 0 0], (-62.65000000000001, -54.25833333333333), (-27.608333333333338, -19.291666666666668), \"+proj=longlat +datum=WGS84 +no_defs\")\n",
              " SDMLayer{UInt8}(UInt8[0x00 0x00 … 0x00 0x00; 0x00 0x00 … 0x00 0x00; … ; 0x00 0x00 … 0x00 0x00; 0x00 0x00 … 0x00 0x00], Bool[0 0 … 0 0; 0 0 … 0 0; … ; 0 0 … 0 0; 0 0 … 0 0], (-62.65000000000001, -54.25833333333333), (-27.608333333333338, -19.291666666666668), \"+proj=longlat +datum=WGS84 +no_defs\")\n",
              " SDMLayer{UInt8}(UInt8[0x00 0x00 … 0x00 0x00; 0x00 0x00 … 0x00 0x00; … ; 0x00 0x00 … 0x00 0x00; 0x00 0x00 … 0x00 0x00], Bool[0 0 … 0 0; 0 0 … 0 0; … ; 0 0 … 0 0; 0 0 … 0 0], (-62.65000000000001, -54.25833333333333), (-27.608333333333338, -19.291666666666668), \"+proj=longlat +datum=WGS84 +no_defs\")\n",
              " SDMLayer{UInt8}(UInt8[0x00 0x00 … 0x00 0x00; 0x00 0x00 … 0x00 0x00; … ; 0x10 0x0d … 0x00 0x00; 0x02 0x00 … 0x00 0x00], Bool[0 0 … 0 0; 0 0 … 0 0; … ; 0 0 … 0 0; 0 0 … 0 0], (-62.65000000000001, -54.25833333333333), (-27.608333333333338, -19.291666666666668), \"+proj=longlat +datum=WGS84 +no_defs\")\n",
              " SDMLayer{UInt8}(UInt8[0x00 0x00 … 0x00 0x00; 0x00 0x00 … 0x00 0x00; … ; 0x00 0x00 … 0x00 0x00; 0x00 0x00 … 0x00 0x00], Bool[0 0 … 0 0; 0 0 … 0 0; … ; 0 0 … 0 0; 0 0 … 0 0], (-62.65000000000001, -54.25833333333333), (-27.608333333333338, -19.291666666666668), \"+proj=longlat +datum=WGS84 +no_defs\")"
            ]
          }
        }
      ],
      "source": [
        "provider = RasterData(EarthEnv, LandCover)\n",
        "luclasses = SDMLayer{UInt8}[SDMLayer(provider; layer=l, extent...) for l in layers(provider)]\n",
        "mask!(luclasses, place)"
      ],
      "id": "cell-4"
    },
    {
      "cell_type": "markdown",
      "metadata": {},
      "source": [
        "The `mosaic` function will apply its first input (a function operating\n",
        "on a vector and returning an atomic value) to all cells with the same\n",
        "coordinate in its second argument, a vector of layers. In this case, we\n",
        "use the `argmax` function to identify which layer represents the most\n",
        "locally abundant land cover class:"
      ],
      "id": "4723fe36-20a6-4458-b8fc-a14e21077fee"
    },
    {
      "cell_type": "code",
      "execution_count": 13,
      "metadata": {},
      "outputs": [
        {
          "output_type": "display_data",
          "metadata": {},
          "data": {
            "text/plain": [
              "SDM Layer with 507651 Int64 cells\n",
              "    Proj string: +proj=longlat +datum=WGS84 +no_defs\n",
              "    Grid size: (998, 1007)"
            ]
          }
        }
      ],
      "source": [
        "consensus = mosaic(argmax, luclasses)"
      ],
      "id": "cell-6"
    },
    {
      "cell_type": "code",
      "execution_count": 14,
      "metadata": {},
      "outputs": [
        {
          "output_type": "display_data",
          "metadata": {},
          "data": {
            "text/plain": [
              "12-element Vector{Any}:\n",
              " \"#117733\"\n",
              " \"#668822\"\n",
              " \"#99BB55\"\n",
              " \"#55aa22\"\n",
              " \"#ddcc66\"\n",
              " \"#aaddcc\"\n",
              " \"#44aa88\"\n",
              " \"#88bbaa\"\n",
              " \"#bb0011\"\n",
              " :aqua\n",
              " \"#FFEE88\"\n",
              " \"#5566AA\""
            ]
          }
        }
      ],
      "source": [
        "landcover_colors = [\"#117733\", \"#668822\", \"#99BB55\", \"#55aa22\", \"#ddcc66\", \"#aaddcc\", \"#44aa88\", \"#88bbaa\", \"#bb0011\", :aqua, \"#FFEE88\", \"#5566AA\"]"
      ],
      "id": "cell-7"
    },
    {
      "cell_type": "code",
      "execution_count": 15,
      "metadata": {},
      "outputs": [
        {
          "output_type": "display_data",
          "metadata": {},
          "data": {
            "text/plain": [
              "12-element Vector{String}:\n",
              " \"Evergreen/Deciduous Needleleaf Trees\"\n",
              " \"Evergreen Broadleaf Trees\"\n",
              " \"Deciduous Broadleaf Trees\"\n",
              " \"Mixed/Other Trees\"\n",
              " \"Shrubs\"\n",
              " \"Herbaceous Vegetation\"\n",
              " \"Cultivated and Managed Vegetation\"\n",
              " \"Regularly Flooded Vegetation\"\n",
              " \"Urban/Built-up\"\n",
              " \"Snow/Ice\"\n",
              " \"Barren\"\n",
              " \"Open Water\""
            ]
          }
        }
      ],
      "source": [
        "layernames = layers(provider)"
      ],
      "id": "cell-8"
    },
    {
      "cell_type": "code",
      "execution_count": 16,
      "metadata": {},
      "outputs": [
        {
          "output_type": "display_data",
          "metadata": {},
          "data": {
            "text/plain": [
              "10-element Vector{Int64}:\n",
              "  2\n",
              "  3\n",
              "  4\n",
              "  5\n",
              "  6\n",
              "  7\n",
              "  8\n",
              "  9\n",
              " 11\n",
              " 12"
            ]
          }
        }
      ],
      "source": [
        "# Filter the layers that are not empty\n",
        "present = sort(unique(values(consensus)))"
      ],
      "id": "cell-9"
    },
    {
      "cell_type": "code",
      "execution_count": null,
      "metadata": {},
      "outputs": [],
      "source": [
        "fig = Figure(; size=(600, 800))\n",
        "panel = Axis(fig[1, 1]; aspect = DataAspect())\n",
        "heatmap!(panel, consensus; colormap = landcover_colors)\n",
        "lines!(panel, place[1].geometry, color=:black)\n",
        "tightlimits!(panel)\n",
        "hidespines!(panel)\n",
        "hidedecorations!(panel)\n",
        "Legend(\n",
        "    fig[2, 1],\n",
        "    [PolyElement(; color = landcover_colors[i]) for i in present],\n",
        "    layers(provider)[present];\n",
        "    orientation = :horizontal,\n",
        "    nbanks = 4,\n",
        "    framevisible=false\n",
        ")\n",
        "fig"
      ],
      "id": "cell-fig-landcover-consensus"
    }
  ],
  "nbformat": 4,
  "nbformat_minor": 5,
  "metadata": {
    "kernelspec": {
      "name": "julia-1.11",
      "display_name": "Julia 1.11.3",
      "language": "julia"
    },
    "language_info": {
      "name": "julia",
      "file_extension": ".jl",
      "mimetype": "application/julia",
      "version": "1.11.3"
    }
  }
}