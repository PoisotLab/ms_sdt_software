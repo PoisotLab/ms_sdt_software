{
 "cells": [
  {
   "cell_type": "markdown",
   "metadata": {},
   "source": [
    "# SDM"
   ]
  },
  {
   "cell_type": "code",
   "execution_count": 99,
   "metadata": {},
   "outputs": [],
   "source": [
    "using SpeciesDistributionToolkit\n",
    "using CairoMakie\n",
    "using Statistics\n",
    "CairoMakie.activate!(px_per_unit = 6.0)"
   ]
  },
  {
   "cell_type": "code",
   "execution_count": null,
   "metadata": {},
   "outputs": [],
   "source": [
    "tx = taxon(\"Akodon montensis\")"
   ]
  },
  {
   "cell_type": "code",
   "execution_count": null,
   "metadata": {},
   "outputs": [],
   "source": [
    "place = SpeciesDistributionToolkit.gadm(\"PRY\")\n",
    "extent = SpeciesDistributionToolkit.boundingbox(place)"
   ]
  },
  {
   "cell_type": "code",
   "execution_count": null,
   "metadata": {},
   "outputs": [],
   "source": [
    "provider = RasterData(CHELSA2, BioClim)"
   ]
  },
  {
   "cell_type": "code",
   "execution_count": null,
   "metadata": {},
   "outputs": [],
   "source": [
    "L = SDMLayer{Float16}[mask!(SDMLayer(provider; layer=l, extent...), place) for l in [\"BIO1\", \"BIO12\", \"BIO3\", \"BIO8\"]]"
   ]
  },
  {
   "cell_type": "code",
   "execution_count": null,
   "metadata": {},
   "outputs": [],
   "source": [
    "presences = occurrences(tx, first(L), \"occurrenceStatus\" => \"PRESENT\", \"country\" => \"PY\", \"limit\" => 300, \"hasCoordinate\" => true)\n",
    "occurrences!(presences)"
   ]
  },
  {
   "cell_type": "code",
   "execution_count": null,
   "metadata": {},
   "outputs": [],
   "source": [
    "presencelayer = mask(first(L), presences)\n",
    "background = pseudoabsencemask(DistanceToEvent, presencelayer)\n",
    "bgpoints = backgroundpoints(nodata(background, d -> d < 4), 2sum(presencelayer))"
   ]
  },
  {
   "cell_type": "code",
   "execution_count": null,
   "metadata": {},
   "outputs": [],
   "source": [
    "heatmap(L[1])\n",
    "scatter!(presencelayer)\n",
    "scatter!(bgpoints)\n",
    "current_figure()"
   ]
  },
  {
   "cell_type": "code",
   "execution_count": null,
   "metadata": {},
   "outputs": [],
   "source": [
    "sdm = SDM(PCATransform, DecisionTree, L, presencelayer, bgpoints)"
   ]
  },
  {
   "cell_type": "code",
   "execution_count": null,
   "metadata": {},
   "outputs": [],
   "source": [
    "folds = kfold(sdm);\n",
    "cv = crossvalidate(sdm, folds; threshold = true);\n",
    "mean(mcc.(cv.validation))"
   ]
  },
  {
   "cell_type": "code",
   "execution_count": null,
   "metadata": {},
   "outputs": [],
   "source": [
    "cv = crossvalidate(sdm, folds; threshold = true);\n",
    "mean(mcc.(cv.validation))"
   ]
  },
  {
   "cell_type": "code",
   "execution_count": null,
   "metadata": {},
   "outputs": [],
   "source": [
    "variables(sdm)"
   ]
  },
  {
   "cell_type": "code",
   "execution_count": null,
   "metadata": {},
   "outputs": [],
   "source": [
    "train!(sdm)"
   ]
  },
  {
   "cell_type": "code",
   "execution_count": null,
   "metadata": {},
   "outputs": [],
   "source": [
    "predict(sdm, L; threshold=true) |> heatmap"
   ]
  },
  {
   "cell_type": "code",
   "execution_count": null,
   "metadata": {},
   "outputs": [],
   "source": [
    "ensemble = Bagging(sdm, 50)\n",
    "bagfeatures!(ensemble)"
   ]
  },
  {
   "cell_type": "code",
   "execution_count": null,
   "metadata": {},
   "outputs": [],
   "source": [
    "train!(ensemble)"
   ]
  },
  {
   "cell_type": "code",
   "execution_count": null,
   "metadata": {},
   "outputs": [],
   "source": [
    "predict(ensemble, L; threshold=false) |> (s) -> heatmap(s, colormap=:thermal)\n",
    "lines!(place[1].geometry, color=:black)\n",
    "scatter!(presencelayer)\n",
    "current_figure()"
   ]
  }
 ],
 "metadata": {
  "kernelspec": {
   "display_name": "Julia 1.11.3",
   "language": "julia",
   "name": "julia-1.11"
  },
  "language_info": {
   "file_extension": ".jl",
   "mimetype": "application/julia",
   "name": "julia",
   "version": "1.11.3"
  }
 },
 "nbformat": 4,
 "nbformat_minor": 2
}
