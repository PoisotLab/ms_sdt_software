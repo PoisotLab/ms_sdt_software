{
 "cells": [
  {
   "cell_type": "markdown",
   "metadata": {
    "vscode": {
     "languageId": "julia"
    }
   },
   "source": [
    "# Landcover consensus"
   ]
  },
  {
   "cell_type": "code",
   "execution_count": 21,
   "metadata": {},
   "outputs": [],
   "source": [
    "using SpeciesDistributionToolkit\n",
    "using CairoMakie\n",
    "CairoMakie.activate!(px_per_unit = 6.0)"
   ]
  },
  {
   "cell_type": "code",
   "execution_count": null,
   "metadata": {},
   "outputs": [],
   "source": [
    "place = SpeciesDistributionToolkit.gadm(\"PRY\")\n",
    "extent = SpeciesDistributionToolkit.boundingbox(place)"
   ]
  },
  {
   "cell_type": "code",
   "execution_count": null,
   "metadata": {},
   "outputs": [],
   "source": [
    "provider = RasterData(EarthEnv, LandCover)\n",
    "luclasses = SDMLayer{UInt8}[SDMLayer(provider; layer=l, extent...) for l in layers(provider)]\n",
    "mask!(luclasses, place)"
   ]
  },
  {
   "cell_type": "markdown",
   "metadata": {},
   "source": [
    "The `mosaic` function will apply its first input (a function operating on a vector and returning an atomic value) to all cells with the same coordinate in its second argument, a vector of layers. In this case, we use the `argmax` function to identify which layer represents the most locally abundant land cover class:"
   ]
  },
  {
   "cell_type": "code",
   "execution_count": null,
   "metadata": {},
   "outputs": [],
   "source": [
    "consensus = mosaic(argmax, luclasses)"
   ]
  },
  {
   "cell_type": "code",
   "execution_count": null,
   "metadata": {},
   "outputs": [],
   "source": [
    "landcover_colors = [\"#117733\", \"#668822\", \"#99BB55\", \"#55aa22\", \"#ddcc66\", \"#aaddcc\", \"#44aa88\", \"#88bbaa\", \"#bb0011\", :aqua, \"#FFEE88\", \"#5566AA\"]"
   ]
  },
  {
   "cell_type": "code",
   "execution_count": null,
   "metadata": {},
   "outputs": [],
   "source": [
    "#| label: fig-landcover-consensus\n",
    "#| fig-cap: \"yeah\"\n",
    "fig = Figure()\n",
    "panel = Axis(fig[1, 1]; aspect = DataAspect())\n",
    "heatmap!(panel, consensus; colormap = landcover_colors)\n",
    "lines!(panel, place[1].geometry, color=:black)\n",
    "tightlimits!(panel)\n",
    "hidespines!(panel)\n",
    "hidedecorations!(panel)\n",
    "Legend(\n",
    "    fig[2, 1],\n",
    "    [PolyElement(; color = landcover_colors[i]) for i in eachindex(landcover_colors)],\n",
    "    layers(provider)[1:length(luclasses)];\n",
    "    orientation = :horizontal,\n",
    "    nbanks = 4,\n",
    "    framevisible=false\n",
    ")\n",
    "fig"
   ]
  }
 ],
 "metadata": {
  "kernelspec": {
   "display_name": "Julia 1.11.3",
   "language": "julia",
   "name": "julia-1.11"
  },
  "language_info": {
   "file_extension": ".jl",
   "mimetype": "application/julia",
   "name": "julia",
   "version": "1.11.3"
  }
 },
 "nbformat": 4,
 "nbformat_minor": 2
}
