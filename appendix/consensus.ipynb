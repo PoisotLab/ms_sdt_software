{
 "cells": [
  {
   "cell_type": "code",
   "execution_count": 1,
   "metadata": {},
   "outputs": [],
   "source": [
    "# Landcover consensus"
   ]
  },
  {
   "cell_type": "code",
   "execution_count": null,
   "metadata": {},
   "outputs": [],
   "source": [
    "using SpeciesDistributionToolkit\n",
    "using CairoMakie\n",
    "CairoMakie.activate!(px_per_unit = 6.0)"
   ]
  },
  {
   "cell_type": "code",
   "execution_count": null,
   "metadata": {},
   "outputs": [],
   "source": [
    "place = SpeciesDistributionToolkit.gadm(\"PRY\")\n",
    "extent = SpeciesDistributionToolkit.boundingbox(place)"
   ]
  },
  {
   "cell_type": "code",
   "execution_count": null,
   "metadata": {},
   "outputs": [],
   "source": [
    "provider = RasterData(EarthEnv, LandCover)\n",
    "layers = SDMLayer{UInt8}[SDMLayer(provider; layer=l, extent...) for l in layers(provider)]"
   ]
  },
  {
   "cell_type": "code",
   "execution_count": null,
   "metadata": {},
   "outputs": [],
   "source": [
    "consensus = mosaic(argmax, layers)"
   ]
  },
  {
   "cell_type": "code",
   "execution_count": null,
   "metadata": {},
   "outputs": [],
   "source": [
    "heatmap(consensus)"
   ]
  },
  {
   "cell_type": "code",
   "execution_count": null,
   "metadata": {},
   "outputs": [],
   "source": [
    "landcover_colors = [\n",
    "    colorant\"#117733\",\n",
    "    colorant\"#668822\",\n",
    "    colorant\"#99BB55\",\n",
    "    colorant\"#55aa22\",\n",
    "    colorant\"#ddcc66\",\n",
    "    colorant\"#aaddcc\",\n",
    "    colorant\"#44aa88\",\n",
    "    colorant\"#88bbaa\",\n",
    "    colorant\"#bb0011\",\n",
    "    :aqua,\n",
    "    colorant\"#FFEE88\",\n",
    "    colorant\"#5566AA\",\n",
    "];"
   ]
  },
  {
   "cell_type": "code",
   "execution_count": null,
   "metadata": {},
   "outputs": [],
   "source": [
    "fig = Figure(; size = (900, 1000))\n",
    "panel = Axis(fig[1, 1]; aspect = DataAspect())\n",
    "heatmap!(panel, consensus; colormap = landcover_colors)\n",
    "Legend(\n",
    "    fig[2, 1],\n",
    "    [PolyElement(; color = landcover_colors[i]) for i in eachindex(landcover_colors)],\n",
    "    landcover_types;\n",
    "    orientation = :horizontal,\n",
    "    nbanks = 4,\n",
    ")\n",
    "fig"
   ]
  }
 ],
 "metadata": {
  "kernelspec": {
   "display_name": "Julia 1.11.2",
   "language": "julia",
   "name": "julia-1.11"
  },
  "language_info": {
   "file_extension": ".jl",
   "mimetype": "application/julia",
   "name": "julia",
   "version": "1.11.2"
  }
 },
 "nbformat": 4,
 "nbformat_minor": 2
}
