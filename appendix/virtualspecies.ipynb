{
 "cells": [
  {
   "cell_type": "markdown",
   "metadata": {},
   "source": [
    "# Virtual species"
   ]
  },
  {
   "cell_type": "markdown",
   "metadata": {},
   "source": [
    "In this vignette, we provide a demonstration of how the different **SpeciesDistributionToolkit** functions can be chained together to rapidly create a virtual species, generate its range map, and sample points from it according to the predicted suitability."
   ]
  },
  {
   "cell_type": "code",
   "execution_count": 380,
   "metadata": {},
   "outputs": [],
   "source": [
    "using SpeciesDistributionToolkit\n",
    "using CairoMakie\n",
    "using Statistics\n",
    "CairoMakie.activate!(px_per_unit = 6.0)"
   ]
  },
  {
   "cell_type": "markdown",
   "metadata": {},
   "source": [
    "We start by defining the extent in which we want to create the virtual species. For the purpose of this example, we will use the country of Austria, as available in the GADM database:"
   ]
  },
  {
   "cell_type": "code",
   "execution_count": null,
   "metadata": {},
   "outputs": [],
   "source": [
    "place = SpeciesDistributionToolkit.gadm(\"AUT\")\n",
    "extent = SpeciesDistributionToolkit.boundingbox(place)"
   ]
  },
  {
   "cell_type": "code",
   "execution_count": null,
   "metadata": {},
   "outputs": [],
   "source": [
    "provider = RasterData(CHELSA2, BioClim)\n",
    "L = SDMLayer{Float32}[SDMLayer(provider; layer=l, extent...) for l in [\"BIO1\", \"BIO12\"]]"
   ]
  },
  {
   "cell_type": "code",
   "execution_count": null,
   "metadata": {},
   "outputs": [],
   "source": [
    "msk = mask!(L[1], place)\n",
    "rescale!.([mask!(l, msk) for l in L])"
   ]
  },
  {
   "cell_type": "code",
   "execution_count": null,
   "metadata": {},
   "outputs": [],
   "source": [
    "logistic(x, α, β) = 1 / (1 + exp((x-β)/α))\n",
    "logistic(α, β) = (x) -> logistic(x, α, β)\n",
    "f = [logistic(randn(), rand()) for _ in eachindex(L)]"
   ]
  },
  {
   "cell_type": "code",
   "execution_count": null,
   "metadata": {},
   "outputs": [],
   "source": [
    "S = prod([f[i].(L[i]) for i in eachindex(L)])"
   ]
  },
  {
   "cell_type": "code",
   "execution_count": null,
   "metadata": {},
   "outputs": [],
   "source": [
    "target_prevalence = 0.2\n",
    "cutoff = quantile(S, 1-target_prevalence)"
   ]
  },
  {
   "cell_type": "code",
   "execution_count": null,
   "metadata": {},
   "outputs": [],
   "source": [
    "thr = LinRange(extrema(S)..., 100)\n",
    "prv = [count(nodata(S .>= t, false))/count(S) for t in thr]\n",
    "cutoff = thr[findmin(abs.(prv .- target_prevalence))[2]]"
   ]
  },
  {
   "cell_type": "code",
   "execution_count": null,
   "metadata": {},
   "outputs": [],
   "source": [
    "presencelayer = backgroundpoints((v -> v > cutoff ? v : 0.0).(S), 100)"
   ]
  },
  {
   "cell_type": "code",
   "execution_count": null,
   "metadata": {},
   "outputs": [],
   "source": [
    "f = Figure(size=(1000, 500))\n",
    "ax = Axis(f[1,1], aspect=DataAspect())\n",
    "heatmap!(ax, S .> cutoff, colormap=[\"#cececebb\", :green])\n",
    "lines!(ax, place[1].geometry, color=:black)\n",
    "scatter!(ax, presencelayer, color=:white, strokecolor=:black, strokewidth=2, markersize=10, label=\"Virtual presences\")\n",
    "tightlimits!(ax)\n",
    "hidespines!(ax)\n",
    "hidedecorations!(ax)\n",
    "axislegend(ax, position=:lt, framevisible=false)\n",
    "f"
   ]
  }
 ],
 "metadata": {
  "kernelspec": {
   "display_name": "Julia 1.11.2",
   "language": "julia",
   "name": "julia-1.11"
  },
  "language_info": {
   "file_extension": ".jl",
   "mimetype": "application/julia",
   "name": "julia",
   "version": "1.11.2"
  }
 },
 "nbformat": 4,
 "nbformat_minor": 2
}
